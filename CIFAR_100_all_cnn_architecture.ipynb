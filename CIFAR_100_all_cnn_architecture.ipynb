{
  "nbformat": 4,
  "nbformat_minor": 0,
  "metadata": {
    "colab": {
      "name": "CIFAR-100_all_cnn_architecture.ipynb",
      "provenance": []
    },
    "kernelspec": {
      "name": "python3",
      "display_name": "Python 3"
    }
  },
  "cells": [
    {
      "cell_type": "code",
      "metadata": {
        "id": "rcZF-fZQDOVS",
        "colab_type": "code",
        "outputId": "a57bc417-c10a-4436-b68b-e5e7d0c1cf9c",
        "colab": {
          "base_uri": "https://localhost:8080/",
          "height": 50
        }
      },
      "source": [
        "import time\n",
        "import matplotlib.pyplot as plt\n",
        "import numpy as np\n",
        "% matplotlib inline\n",
        "np.random.seed(2017) \n",
        "\n",
        "#Keras, deep learning libraries\n",
        "from keras.models import Sequential, load_model\n",
        "from keras.layers.convolutional import Convolution2D, MaxPooling2D,AveragePooling2D\n",
        "from keras.layers import Activation, Flatten, Dense, Dropout, Conv2D, MaxPooling2D\n",
        "from keras.layers.normalization import BatchNormalization\n",
        "from keras.utils import np_utils\n",
        "from keras import backend as K\n",
        "from keras.datasets import cifar100\n",
        "import os\n",
        "import tensorflow as tf\n",
        "from tensorflow.python.client import device_lib\n",
        "\n",
        "import pickle\n",
        "import pandas as pd\n",
        "from skimage import io\n",
        "from scipy import misc\n",
        "import skimage.transform as st\n",
        "%pylab inline\n",
        "import matplotlib.pyplot as plt\n",
        "import matplotlib.image as mpimg\n",
        "import h5py\n",
        "from keras.preprocessing.image import ImageDataGenerator"
      ],
      "execution_count": 0,
      "outputs": [
        {
          "output_type": "stream",
          "text": [
            "Using TensorFlow backend.\n"
          ],
          "name": "stderr"
        },
        {
          "output_type": "stream",
          "text": [
            "Populating the interactive namespace from numpy and matplotlib\n"
          ],
          "name": "stdout"
        }
      ]
    },
    {
      "cell_type": "code",
      "metadata": {
        "id": "NrrZ2ut1DeII",
        "colab_type": "code",
        "colab": {}
      },
      "source": [
        "from keras.optimizers import RMSprop,Adam"
      ],
      "execution_count": 0,
      "outputs": []
    },
    {
      "cell_type": "code",
      "metadata": {
        "id": "NZaxdh1FEBHI",
        "colab_type": "code",
        "outputId": "55ba2e87-87f6-4785-e59c-3515689e1057",
        "colab": {
          "base_uri": "https://localhost:8080/",
          "height": 50
        }
      },
      "source": [
        "(train_features, train_labels), (test_features, test_labels) = cifar100.load_data()\n",
        "num_train, img_channels, img_rows, img_cols =  train_features.shape\n",
        "num_test, _, _, _ =  test_features.shape\n",
        "num_classes = len(np.unique(train_labels))"
      ],
      "execution_count": 0,
      "outputs": [
        {
          "output_type": "stream",
          "text": [
            "Downloading data from https://www.cs.toronto.edu/~kriz/cifar-100-python.tar.gz\n",
            "169009152/169001437 [==============================] - 2s 0us/step\n"
          ],
          "name": "stdout"
        }
      ]
    },
    {
      "cell_type": "code",
      "metadata": {
        "id": "K9a9TWY1ERcr",
        "colab_type": "code",
        "outputId": "13d29206-7cc9-409c-b2b9-e3d8037b1122",
        "colab": {
          "base_uri": "https://localhost:8080/",
          "height": 34
        }
      },
      "source": [
        "#NUmber of Target Classes\n",
        "num_classes"
      ],
      "execution_count": 0,
      "outputs": [
        {
          "output_type": "execute_result",
          "data": {
            "text/plain": [
              "100"
            ]
          },
          "metadata": {
            "tags": []
          },
          "execution_count": 4
        }
      ]
    },
    {
      "cell_type": "code",
      "metadata": {
        "id": "mOksInpaEViA",
        "colab_type": "code",
        "outputId": "dd984e24-cd31-477c-919d-c7eb958c0d3e",
        "colab": {
          "base_uri": "https://localhost:8080/",
          "height": 34
        }
      },
      "source": [
        "#Dimensions of Train dataset\n",
        "train_features.shape"
      ],
      "execution_count": 0,
      "outputs": [
        {
          "output_type": "execute_result",
          "data": {
            "text/plain": [
              "(50000, 32, 32, 3)"
            ]
          },
          "metadata": {
            "tags": []
          },
          "execution_count": 5
        }
      ]
    },
    {
      "cell_type": "code",
      "metadata": {
        "id": "HSTuVN_HEdVy",
        "colab_type": "code",
        "outputId": "f54f6b82-b90e-468a-cc10-ef8ae46ad4c1",
        "colab": {
          "base_uri": "https://localhost:8080/",
          "height": 34
        }
      },
      "source": [
        "#Dimensions of Test dataset\n",
        "test_features.shape"
      ],
      "execution_count": 0,
      "outputs": [
        {
          "output_type": "execute_result",
          "data": {
            "text/plain": [
              "(10000, 32, 32, 3)"
            ]
          },
          "metadata": {
            "tags": []
          },
          "execution_count": 6
        }
      ]
    },
    {
      "cell_type": "code",
      "metadata": {
        "id": "_OmLuOmcEmLT",
        "colab_type": "code",
        "colab": {}
      },
      "source": [
        "train_features = train_features.astype('float32')/255\n",
        "test_features = test_features.astype('float32')/255"
      ],
      "execution_count": 0,
      "outputs": []
    },
    {
      "cell_type": "code",
      "metadata": {
        "id": "FLmB3JJxEpf2",
        "colab_type": "code",
        "colab": {}
      },
      "source": [
        "train_labels = np_utils.to_categorical(train_labels, num_classes)\n",
        "test_labels = np_utils.to_categorical(test_labels, num_classes)"
      ],
      "execution_count": 0,
      "outputs": []
    },
    {
      "cell_type": "code",
      "metadata": {
        "id": "ETR-4w81E1tR",
        "colab_type": "code",
        "colab": {}
      },
      "source": [
        "def accuracy(test_x, test_y, model):\n",
        "    result = model.predict(test_x)\n",
        "    predicted_class = np.argmax(result, axis=1)\n",
        "    true_class = np.argmax(test_y, axis=1)\n",
        "    num_correct = np.sum(predicted_class == true_class) \n",
        "    accuracy = float(num_correct)/result.shape[0]\n",
        "    return (accuracy * 100)"
      ],
      "execution_count": 0,
      "outputs": []
    },
    {
      "cell_type": "code",
      "metadata": {
        "id": "_Hhv66RfFR8S",
        "colab_type": "code",
        "colab": {}
      },
      "source": [
        "# first simple model\n",
        "\n",
        "#Initialize the model\n",
        "model = Sequential()\n",
        "\n",
        "# Step 1 - Convolution\n",
        "model.add(Conv2D(48, (3, 3), padding='same', input_shape=(32, 32, 3), activation = 'relu'))\n",
        " \n",
        "# Step 2 - Pooling\n",
        "model.add(MaxPooling2D(pool_size=(2, 2)))\n",
        "\n",
        "# Step 3 - Flattening\n",
        "model.add(Flatten())\n",
        "\n",
        "# Step 4 - Full connection\n",
        "model.add(Dense(units = 1024, activation = 'relu'))\n",
        "model.add(Dropout(0.1))\n",
        "model.add(Dense(units = 512, activation = 'relu'))\n",
        "model.add(Dropout(0.1))\n",
        "model.add(Dense(units = 256, activation = 'relu'))\n",
        "model.add(BatchNormalization())\n",
        "model.add(Dense(num_classes, activation='softmax'))\n",
        "\n",
        "# Compile the model\n",
        "optimizer=Adam(lr=0.01,beta_1=0.9,beta_2=0.999)\n",
        "model.compile(optimizer='adam', loss='categorical_crossentropy', metrics=['accuracy'])"
      ],
      "execution_count": 0,
      "outputs": []
    },
    {
      "cell_type": "code",
      "metadata": {
        "id": "vxVi2HNoFlO0",
        "colab_type": "code",
        "outputId": "be3f6262-a02d-4399-ff19-0923ea1a6ef4",
        "colab": {
          "base_uri": "https://localhost:8080/",
          "height": 487
        }
      },
      "source": [
        "model.summary()"
      ],
      "execution_count": 0,
      "outputs": [
        {
          "output_type": "stream",
          "text": [
            "Model: \"sequential_4\"\n",
            "_________________________________________________________________\n",
            "Layer (type)                 Output Shape              Param #   \n",
            "=================================================================\n",
            "conv2d_4 (Conv2D)            (None, 32, 32, 48)        1344      \n",
            "_________________________________________________________________\n",
            "max_pooling2d_4 (MaxPooling2 (None, 16, 16, 48)        0         \n",
            "_________________________________________________________________\n",
            "flatten_4 (Flatten)          (None, 12288)             0         \n",
            "_________________________________________________________________\n",
            "dense_8 (Dense)              (None, 1024)              12583936  \n",
            "_________________________________________________________________\n",
            "dropout_2 (Dropout)          (None, 1024)              0         \n",
            "_________________________________________________________________\n",
            "dense_9 (Dense)              (None, 512)               524800    \n",
            "_________________________________________________________________\n",
            "dropout_3 (Dropout)          (None, 512)               0         \n",
            "_________________________________________________________________\n",
            "dense_10 (Dense)             (None, 256)               131328    \n",
            "_________________________________________________________________\n",
            "batch_normalization_3 (Batch (None, 256)               1024      \n",
            "_________________________________________________________________\n",
            "dense_11 (Dense)             (None, 100)               25700     \n",
            "=================================================================\n",
            "Total params: 13,268,132\n",
            "Trainable params: 13,267,620\n",
            "Non-trainable params: 512\n",
            "_________________________________________________________________\n"
          ],
          "name": "stdout"
        }
      ]
    },
    {
      "cell_type": "code",
      "metadata": {
        "id": "Ss6LbwktF44Q",
        "colab_type": "code",
        "outputId": "06fb8c4b-cc08-46ba-a80e-3a9036622f84",
        "colab": {
          "base_uri": "https://localhost:8080/",
          "height": 538
        }
      },
      "source": [
        "model_info = model.fit(train_features, train_labels, \n",
        "                           batch_size=128, epochs=15, \n",
        "                           validation_data = (test_features, test_labels), \n",
        "                           verbose=1)"
      ],
      "execution_count": 0,
      "outputs": [
        {
          "output_type": "stream",
          "text": [
            "Train on 50000 samples, validate on 10000 samples\n",
            "Epoch 1/15\n",
            "50000/50000 [==============================] - 206s 4ms/step - loss: 3.6359 - accuracy: 0.1533 - val_loss: 3.1404 - val_accuracy: 0.2365\n",
            "Epoch 2/15\n",
            "50000/50000 [==============================] - 206s 4ms/step - loss: 2.8652 - accuracy: 0.2838 - val_loss: 2.7395 - val_accuracy: 0.3149\n",
            "Epoch 3/15\n",
            "50000/50000 [==============================] - 206s 4ms/step - loss: 2.4725 - accuracy: 0.3609 - val_loss: 2.6804 - val_accuracy: 0.3284\n",
            "Epoch 4/15\n",
            "50000/50000 [==============================] - 205s 4ms/step - loss: 2.1373 - accuracy: 0.4321 - val_loss: 2.5430 - val_accuracy: 0.3600\n",
            "Epoch 5/15\n",
            "50000/50000 [==============================] - 205s 4ms/step - loss: 1.8031 - accuracy: 0.5068 - val_loss: 2.6455 - val_accuracy: 0.3476\n",
            "Epoch 6/15\n",
            "50000/50000 [==============================] - 205s 4ms/step - loss: 1.4657 - accuracy: 0.5890 - val_loss: 2.8389 - val_accuracy: 0.3453\n",
            "Epoch 7/15\n",
            "50000/50000 [==============================] - 204s 4ms/step - loss: 1.1445 - accuracy: 0.6704 - val_loss: 2.9987 - val_accuracy: 0.3513\n",
            "Epoch 8/15\n",
            "50000/50000 [==============================] - 204s 4ms/step - loss: 0.8843 - accuracy: 0.7409 - val_loss: 3.2071 - val_accuracy: 0.3463\n",
            "Epoch 9/15\n",
            "50000/50000 [==============================] - 203s 4ms/step - loss: 0.6746 - accuracy: 0.7967 - val_loss: 3.4200 - val_accuracy: 0.3443\n",
            "Epoch 10/15\n",
            "50000/50000 [==============================] - 202s 4ms/step - loss: 0.5304 - accuracy: 0.8381 - val_loss: 3.7014 - val_accuracy: 0.3495\n",
            "Epoch 11/15\n",
            "50000/50000 [==============================] - 202s 4ms/step - loss: 0.4311 - accuracy: 0.8681 - val_loss: 3.8419 - val_accuracy: 0.3466\n",
            "Epoch 12/15\n",
            "50000/50000 [==============================] - 203s 4ms/step - loss: 0.3604 - accuracy: 0.8893 - val_loss: 4.1911 - val_accuracy: 0.3419\n",
            "Epoch 13/15\n",
            "50000/50000 [==============================] - 203s 4ms/step - loss: 0.3179 - accuracy: 0.9000 - val_loss: 4.2679 - val_accuracy: 0.3435\n",
            "Epoch 14/15\n",
            "50000/50000 [==============================] - 203s 4ms/step - loss: 0.2802 - accuracy: 0.9133 - val_loss: 4.4011 - val_accuracy: 0.3414\n",
            "Epoch 15/15\n",
            "50000/50000 [==============================] - 203s 4ms/step - loss: 0.2630 - accuracy: 0.9182 - val_loss: 4.4676 - val_accuracy: 0.3346\n"
          ],
          "name": "stdout"
        }
      ]
    },
    {
      "cell_type": "code",
      "metadata": {
        "id": "-7ERPjJGNkGl",
        "colab_type": "code",
        "colab": {}
      },
      "source": [
        "# first simple model\n",
        "\n",
        "#Initialize the model\n",
        "model = Sequential()\n",
        "\n",
        "# Step 1 - Convolution\n",
        "model.add(Conv2D(48, (3, 3), padding='same', input_shape=(32, 32, 3), activation = 'relu'))\n",
        " \n",
        "# Step 2 - Pooling\n",
        "model.add(MaxPooling2D(pool_size=(2, 2)))\n",
        "\n",
        "model.add(Dropout(0.25))\n",
        "\n",
        "# Step 3 - Flattening\n",
        "model.add(Flatten())\n",
        "\n",
        "# Step 4 - Full connection\n",
        "model.add(Dense(units = 512, activation = 'relu'))\n",
        "model.add(Dense(num_classes, activation='softmax'))\n",
        "\n",
        "# Compile the model\n",
        "optimizer=Adam(lr=0.01,beta_1=0.9,beta_2=0.999)\n",
        "model.compile(optimizer='adam', loss='categorical_crossentropy', metrics=['accuracy'])"
      ],
      "execution_count": 0,
      "outputs": []
    },
    {
      "cell_type": "code",
      "metadata": {
        "id": "9LktAV4LN2TB",
        "colab_type": "code",
        "outputId": "a03efd82-b4e0-4dc6-af89-ddf5bc9edc33",
        "colab": {
          "base_uri": "https://localhost:8080/",
          "height": 353
        }
      },
      "source": [
        "model.summary()"
      ],
      "execution_count": 0,
      "outputs": [
        {
          "output_type": "stream",
          "text": [
            "Model: \"sequential_2\"\n",
            "_________________________________________________________________\n",
            "Layer (type)                 Output Shape              Param #   \n",
            "=================================================================\n",
            "conv2d_2 (Conv2D)            (None, 32, 32, 48)        1344      \n",
            "_________________________________________________________________\n",
            "max_pooling2d_2 (MaxPooling2 (None, 16, 16, 48)        0         \n",
            "_________________________________________________________________\n",
            "dropout_1 (Dropout)          (None, 16, 16, 48)        0         \n",
            "_________________________________________________________________\n",
            "flatten_2 (Flatten)          (None, 12288)             0         \n",
            "_________________________________________________________________\n",
            "dense_3 (Dense)              (None, 512)               6291968   \n",
            "_________________________________________________________________\n",
            "dense_4 (Dense)              (None, 100)               51300     \n",
            "=================================================================\n",
            "Total params: 6,344,612\n",
            "Trainable params: 6,344,612\n",
            "Non-trainable params: 0\n",
            "_________________________________________________________________\n"
          ],
          "name": "stdout"
        }
      ]
    },
    {
      "cell_type": "code",
      "metadata": {
        "id": "iF0x-8wIN8R4",
        "colab_type": "code",
        "outputId": "6ca02fa3-d365-41ab-fbb3-5eda21cbfb85",
        "colab": {
          "base_uri": "https://localhost:8080/",
          "height": 558
        }
      },
      "source": [
        "model_info = model.fit(train_features, train_labels, \n",
        "                           batch_size=128, epochs=15, \n",
        "                           validation_data = (test_features, test_labels), \n",
        "                           verbose=1)"
      ],
      "execution_count": 0,
      "outputs": [
        {
          "output_type": "stream",
          "text": [
            "Train on 50000 samples, validate on 10000 samples\n",
            "Epoch 1/15\n",
            "50000/50000 [==============================] - 132s 3ms/step - loss: 3.6259 - accuracy: 0.1612 - val_loss: 3.1426 - val_accuracy: 0.2461\n",
            "Epoch 2/15\n",
            "50000/50000 [==============================] - 132s 3ms/step - loss: 2.8656 - accuracy: 0.2974 - val_loss: 2.8833 - val_accuracy: 0.3000\n",
            "Epoch 3/15\n",
            "50000/50000 [==============================] - 131s 3ms/step - loss: 2.5219 - accuracy: 0.3699 - val_loss: 2.6964 - val_accuracy: 0.3348\n",
            "Epoch 4/15\n",
            "50000/50000 [==============================] - 131s 3ms/step - loss: 2.2595 - accuracy: 0.4226 - val_loss: 2.6057 - val_accuracy: 0.3529\n",
            "Epoch 5/15\n",
            "50000/50000 [==============================] - 132s 3ms/step - loss: 2.0360 - accuracy: 0.4708 - val_loss: 2.6649 - val_accuracy: 0.3461\n",
            "Epoch 6/15\n",
            "50000/50000 [==============================] - 131s 3ms/step - loss: 1.8468 - accuracy: 0.5138 - val_loss: 2.5929 - val_accuracy: 0.3594\n",
            "Epoch 7/15\n",
            "50000/50000 [==============================] - 130s 3ms/step - loss: 1.6788 - accuracy: 0.5519 - val_loss: 2.6522 - val_accuracy: 0.3581\n",
            "Epoch 8/15\n",
            "50000/50000 [==============================] - 129s 3ms/step - loss: 1.5146 - accuracy: 0.5900 - val_loss: 2.6836 - val_accuracy: 0.3664\n",
            "Epoch 9/15\n",
            "50000/50000 [==============================] - 129s 3ms/step - loss: 1.3692 - accuracy: 0.6274 - val_loss: 2.7337 - val_accuracy: 0.3673\n",
            "Epoch 10/15\n",
            "50000/50000 [==============================] - 129s 3ms/step - loss: 1.2327 - accuracy: 0.6597 - val_loss: 2.8117 - val_accuracy: 0.3569\n",
            "Epoch 11/15\n",
            "50000/50000 [==============================] - 128s 3ms/step - loss: 1.1152 - accuracy: 0.6906 - val_loss: 2.8685 - val_accuracy: 0.3622\n",
            "Epoch 12/15\n",
            "50000/50000 [==============================] - 130s 3ms/step - loss: 1.0022 - accuracy: 0.7191 - val_loss: 2.9859 - val_accuracy: 0.3539\n",
            "Epoch 13/15\n",
            "50000/50000 [==============================] - 132s 3ms/step - loss: 0.8979 - accuracy: 0.7452 - val_loss: 3.0835 - val_accuracy: 0.3584\n",
            "Epoch 14/15\n",
            "50000/50000 [==============================] - 135s 3ms/step - loss: 0.8151 - accuracy: 0.7679 - val_loss: 3.1605 - val_accuracy: 0.3607\n",
            "Epoch 15/15\n",
            "50000/50000 [==============================] - 133s 3ms/step - loss: 0.7267 - accuracy: 0.7915 - val_loss: 3.3190 - val_accuracy: 0.3523\n"
          ],
          "name": "stdout"
        }
      ]
    },
    {
      "cell_type": "code",
      "metadata": {
        "id": "78MrblyBcq0E",
        "colab_type": "code",
        "colab": {}
      },
      "source": [
        "# lenet\n",
        "\n",
        "#Initialize the model\n",
        "lenet_model = Sequential()\n",
        "\n",
        "# Step 1 - Convolution\n",
        "lenet_model.add(Conv2D(6, (5, 5), padding='same', input_shape=(32, 32, 3), activation = 'relu'))\n",
        " \n",
        "# Step 2 - Pooling\n",
        "lenet_model.add(MaxPooling2D(pool_size=(2, 2),strides=2))\n",
        "\n",
        "#model.add(Dropout(0.25))\n",
        "\n",
        "lenet_model.add(Conv2D(16,(5,5),padding='same',activation='relu'))\n",
        "\n",
        "lenet_model.add(MaxPooling2D(pool_size=(2, 2),strides=2))\n",
        "# Step 3 - Flattening\n",
        "lenet_model.add(Flatten())\n",
        "\n",
        "# Step 4 - Full connection\n",
        "lenet_model.add(Dense(units = 512, activation = 'relu'))\n",
        "\n",
        "lenet_model.add(Dense(units = 256, activation = 'relu'))\n",
        "\n",
        "lenet_model.add(Dense(num_classes, activation='softmax'))\n",
        "\n",
        "# Compile the model\n",
        "#optimizer=Adam(lr=0.01,beta_1=0.9,beta_2=0.999)\n",
        "lenet_model.compile(optimizer='adam', loss='categorical_crossentropy', metrics=['accuracy'])\n"
      ],
      "execution_count": 0,
      "outputs": []
    },
    {
      "cell_type": "code",
      "metadata": {
        "id": "gAIuHv-he4qh",
        "colab_type": "code",
        "outputId": "989d0609-56ce-4d11-b720-681b3dfb985d",
        "colab": {
          "base_uri": "https://localhost:8080/",
          "height": 420
        }
      },
      "source": [
        "lenet_model.summary()"
      ],
      "execution_count": 0,
      "outputs": [
        {
          "output_type": "stream",
          "text": [
            "Model: \"sequential_4\"\n",
            "_________________________________________________________________\n",
            "Layer (type)                 Output Shape              Param #   \n",
            "=================================================================\n",
            "conv2d_5 (Conv2D)            (None, 32, 32, 6)         456       \n",
            "_________________________________________________________________\n",
            "max_pooling2d_5 (MaxPooling2 (None, 16, 16, 6)         0         \n",
            "_________________________________________________________________\n",
            "conv2d_6 (Conv2D)            (None, 16, 16, 16)        2416      \n",
            "_________________________________________________________________\n",
            "max_pooling2d_6 (MaxPooling2 (None, 8, 8, 16)          0         \n",
            "_________________________________________________________________\n",
            "flatten_4 (Flatten)          (None, 1024)              0         \n",
            "_________________________________________________________________\n",
            "dense_8 (Dense)              (None, 512)               524800    \n",
            "_________________________________________________________________\n",
            "dense_9 (Dense)              (None, 256)               131328    \n",
            "_________________________________________________________________\n",
            "dense_10 (Dense)             (None, 100)               25700     \n",
            "=================================================================\n",
            "Total params: 684,700\n",
            "Trainable params: 684,700\n",
            "Non-trainable params: 0\n",
            "_________________________________________________________________\n"
          ],
          "name": "stdout"
        }
      ]
    },
    {
      "cell_type": "code",
      "metadata": {
        "id": "_oDVrx0-fQ1_",
        "colab_type": "code",
        "outputId": "31e82fc3-eea4-4ed9-dc4a-2bdb72cba8fb",
        "colab": {
          "base_uri": "https://localhost:8080/",
          "height": 558
        }
      },
      "source": [
        "lenet_model_info = lenet_model.fit(train_features, train_labels, \n",
        "                           batch_size= 250,epochs=15, \n",
        "                           validation_data = (test_features, test_labels), \n",
        "                           verbose=1)"
      ],
      "execution_count": 0,
      "outputs": [
        {
          "output_type": "stream",
          "text": [
            "Train on 50000 samples, validate on 10000 samples\n",
            "Epoch 1/15\n",
            "50000/50000 [==============================] - 58s 1ms/step - loss: 0.5221 - accuracy: 0.8317 - val_loss: 5.0597 - val_accuracy: 0.3264\n",
            "Epoch 2/15\n",
            "50000/50000 [==============================] - 58s 1ms/step - loss: 0.4414 - accuracy: 0.8534 - val_loss: 5.3069 - val_accuracy: 0.3239\n",
            "Epoch 3/15\n",
            "50000/50000 [==============================] - 58s 1ms/step - loss: 0.2901 - accuracy: 0.9090 - val_loss: 5.6732 - val_accuracy: 0.3323\n",
            "Epoch 4/15\n",
            "50000/50000 [==============================] - 58s 1ms/step - loss: 0.2060 - accuracy: 0.9405 - val_loss: 5.9423 - val_accuracy: 0.3350\n",
            "Epoch 5/15\n",
            "50000/50000 [==============================] - 58s 1ms/step - loss: 0.1637 - accuracy: 0.9552 - val_loss: 6.1638 - val_accuracy: 0.3287\n",
            "Epoch 6/15\n",
            "50000/50000 [==============================] - 58s 1ms/step - loss: 0.1592 - accuracy: 0.9546 - val_loss: 6.4048 - val_accuracy: 0.3300\n",
            "Epoch 7/15\n",
            "50000/50000 [==============================] - 58s 1ms/step - loss: 0.1551 - accuracy: 0.9538 - val_loss: 6.6385 - val_accuracy: 0.3280\n",
            "Epoch 8/15\n",
            "50000/50000 [==============================] - 58s 1ms/step - loss: 0.1461 - accuracy: 0.9571 - val_loss: 6.8082 - val_accuracy: 0.3281\n",
            "Epoch 9/15\n",
            "50000/50000 [==============================] - 58s 1ms/step - loss: 0.1386 - accuracy: 0.9577 - val_loss: 6.9746 - val_accuracy: 0.3318\n",
            "Epoch 10/15\n",
            "50000/50000 [==============================] - 58s 1ms/step - loss: 0.1448 - accuracy: 0.9556 - val_loss: 7.2603 - val_accuracy: 0.3166\n",
            "Epoch 11/15\n",
            "50000/50000 [==============================] - 61s 1ms/step - loss: 0.1410 - accuracy: 0.9568 - val_loss: 7.3131 - val_accuracy: 0.3182\n",
            "Epoch 12/15\n",
            "50000/50000 [==============================] - 58s 1ms/step - loss: 0.1301 - accuracy: 0.9603 - val_loss: 7.4942 - val_accuracy: 0.3262\n",
            "Epoch 13/15\n",
            "50000/50000 [==============================] - 58s 1ms/step - loss: 0.1389 - accuracy: 0.9561 - val_loss: 7.5645 - val_accuracy: 0.3298\n",
            "Epoch 14/15\n",
            "50000/50000 [==============================] - 59s 1ms/step - loss: 0.1246 - accuracy: 0.9603 - val_loss: 7.6828 - val_accuracy: 0.3299\n",
            "Epoch 15/15\n",
            "50000/50000 [==============================] - 58s 1ms/step - loss: 0.1034 - accuracy: 0.9682 - val_loss: 7.8775 - val_accuracy: 0.3234\n"
          ],
          "name": "stdout"
        }
      ]
    },
    {
      "cell_type": "code",
      "metadata": {
        "id": "QqBbLU0A4VPb",
        "colab_type": "code",
        "colab": {}
      },
      "source": [
        "# lenet\n",
        "\n",
        "#Initialize the model\n",
        "lenet_model = Sequential()\n",
        "\n",
        "# Step 1 - Convolution\n",
        "lenet_model.add(Conv2D(6, (5, 5), padding='same', input_shape=(32, 32, 3), activation = 'relu'))\n",
        " \n",
        "# Step 2 - Pooling\n",
        "\n",
        "lenet_model.add(AveragePooling2D(pool_size=(2, 2), strides=2))\n",
        "\n",
        "model.add(Dropout(0.25))\n",
        "\n",
        "lenet_model.add(Conv2D(16,(5,5),padding='same',activation='relu'))\n",
        "\n",
        "lenet_model.add(AveragePooling2D(pool_size=(2, 2), strides=2))\n",
        "\n",
        "model.add(Dropout(0.25))\n",
        "# Step 3 - Flattening\n",
        "lenet_model.add(Flatten())\n",
        "\n",
        "# Step 4 - Full connection\n",
        "lenet_model.add(Dense(units = 512, activation = 'relu'))\n",
        "\n",
        "lenet_model.add(Dense(units = 256, activation = 'relu'))\n",
        "\n",
        "lenet_model.add(Dense(num_classes, activation='softmax'))\n",
        "\n",
        "# Compile the model\n",
        "optimizer=Adam(lr=0.01,beta_1=0.9,beta_2=0.999)\n",
        "lenet_model.compile(optimizer='adam', loss='categorical_crossentropy', metrics=['accuracy'])"
      ],
      "execution_count": 0,
      "outputs": []
    },
    {
      "cell_type": "code",
      "metadata": {
        "id": "meuY0sEa6PNJ",
        "colab_type": "code",
        "outputId": "bc123e2e-0c7d-44e4-8f6b-4c20e449e73b",
        "colab": {
          "base_uri": "https://localhost:8080/",
          "height": 374
        }
      },
      "source": [
        "lenet_model_info = lenet_model.fit(train_features, train_labels, \n",
        "                           batch_size= 250,epochs=15, \n",
        "                           validation_data = (test_features, test_labels), \n",
        "                           verbose=1)"
      ],
      "execution_count": 0,
      "outputs": [
        {
          "output_type": "stream",
          "text": [
            "Train on 50000 samples, validate on 10000 samples\n"
          ],
          "name": "stdout"
        },
        {
          "output_type": "error",
          "ename": "ValueError",
          "evalue": "ignored",
          "traceback": [
            "\u001b[0;31m---------------------------------------------------------------------------\u001b[0m",
            "\u001b[0;31mValueError\u001b[0m                                Traceback (most recent call last)",
            "\u001b[0;32m<ipython-input-42-daba4d9b01c5>\u001b[0m in \u001b[0;36m<module>\u001b[0;34m()\u001b[0m\n\u001b[1;32m      3\u001b[0m                            \u001b[0mvalidation_data\u001b[0m \u001b[0;34m=\u001b[0m \u001b[0;34m(\u001b[0m\u001b[0mtest_features\u001b[0m\u001b[0;34m,\u001b[0m \u001b[0mtest_labels\u001b[0m\u001b[0;34m)\u001b[0m\u001b[0;34m,\u001b[0m\u001b[0;34m\u001b[0m\u001b[0;34m\u001b[0m\u001b[0m\n\u001b[1;32m      4\u001b[0m                            \u001b[0msteps_per_epoch\u001b[0m\u001b[0;34m=\u001b[0m\u001b[0;36m25000\u001b[0m \u001b[0;34m//\u001b[0m \u001b[0;36m250\u001b[0m\u001b[0;34m,\u001b[0m\u001b[0;34m\u001b[0m\u001b[0;34m\u001b[0m\u001b[0m\n\u001b[0;32m----> 5\u001b[0;31m                            verbose=1)\n\u001b[0m",
            "\u001b[0;32m/usr/local/lib/python3.6/dist-packages/keras/engine/training.py\u001b[0m in \u001b[0;36mfit\u001b[0;34m(self, x, y, batch_size, epochs, verbose, callbacks, validation_split, validation_data, shuffle, class_weight, sample_weight, initial_epoch, steps_per_epoch, validation_steps, validation_freq, max_queue_size, workers, use_multiprocessing, **kwargs)\u001b[0m\n\u001b[1;32m   1237\u001b[0m                                         \u001b[0msteps_per_epoch\u001b[0m\u001b[0;34m=\u001b[0m\u001b[0msteps_per_epoch\u001b[0m\u001b[0;34m,\u001b[0m\u001b[0;34m\u001b[0m\u001b[0;34m\u001b[0m\u001b[0m\n\u001b[1;32m   1238\u001b[0m                                         \u001b[0mvalidation_steps\u001b[0m\u001b[0;34m=\u001b[0m\u001b[0mvalidation_steps\u001b[0m\u001b[0;34m,\u001b[0m\u001b[0;34m\u001b[0m\u001b[0;34m\u001b[0m\u001b[0m\n\u001b[0;32m-> 1239\u001b[0;31m                                         validation_freq=validation_freq)\n\u001b[0m\u001b[1;32m   1240\u001b[0m \u001b[0;34m\u001b[0m\u001b[0m\n\u001b[1;32m   1241\u001b[0m     def evaluate(self,\n",
            "\u001b[0;32m/usr/local/lib/python3.6/dist-packages/keras/engine/training_arrays.py\u001b[0m in \u001b[0;36mfit_loop\u001b[0;34m(model, fit_function, fit_inputs, out_labels, batch_size, epochs, verbose, callbacks, val_function, val_inputs, shuffle, initial_epoch, steps_per_epoch, validation_steps, validation_freq)\u001b[0m\n\u001b[1;32m     86\u001b[0m     \u001b[0;32melif\u001b[0m \u001b[0mdo_validation\u001b[0m\u001b[0;34m:\u001b[0m\u001b[0;34m\u001b[0m\u001b[0;34m\u001b[0m\u001b[0m\n\u001b[1;32m     87\u001b[0m         \u001b[0;32mif\u001b[0m \u001b[0msteps_per_epoch\u001b[0m\u001b[0;34m:\u001b[0m\u001b[0;34m\u001b[0m\u001b[0;34m\u001b[0m\u001b[0m\n\u001b[0;32m---> 88\u001b[0;31m             raise ValueError('Must specify `validation_steps` '\n\u001b[0m\u001b[1;32m     89\u001b[0m                              \u001b[0;34m'to perform validation '\u001b[0m\u001b[0;34m\u001b[0m\u001b[0;34m\u001b[0m\u001b[0m\n\u001b[1;32m     90\u001b[0m                              'when doing step-wise training.')\n",
            "\u001b[0;31mValueError\u001b[0m: Must specify `validation_steps` to perform validation when doing step-wise training."
          ]
        }
      ]
    },
    {
      "cell_type": "code",
      "metadata": {
        "id": "-cm63ogo_Css",
        "colab_type": "code",
        "outputId": "3e3257d1-1bc8-4f5b-b100-36cd53a859ef",
        "colab": {
          "base_uri": "https://localhost:8080/",
          "height": 558
        }
      },
      "source": [
        "lenet_model_info = lenet_model.fit(train_features, train_labels, \n",
        "                           batch_size= 128,epochs=15, \n",
        "                           validation_data = (test_features, test_labels), \n",
        "                           verbose=1)"
      ],
      "execution_count": 0,
      "outputs": [
        {
          "output_type": "stream",
          "text": [
            "Train on 50000 samples, validate on 10000 samples\n",
            "Epoch 1/15\n",
            "50000/50000 [==============================] - 61s 1ms/step - loss: 2.0159 - accuracy: 0.4638 - val_loss: 2.7635 - val_accuracy: 0.3403\n",
            "Epoch 2/15\n",
            "50000/50000 [==============================] - 61s 1ms/step - loss: 1.8651 - accuracy: 0.4982 - val_loss: 2.8097 - val_accuracy: 0.3336\n",
            "Epoch 3/15\n",
            "50000/50000 [==============================] - 61s 1ms/step - loss: 1.7436 - accuracy: 0.5253 - val_loss: 2.8809 - val_accuracy: 0.3333\n",
            "Epoch 4/15\n",
            "50000/50000 [==============================] - 61s 1ms/step - loss: 1.6277 - accuracy: 0.5529 - val_loss: 2.9256 - val_accuracy: 0.3415\n",
            "Epoch 5/15\n",
            "50000/50000 [==============================] - 61s 1ms/step - loss: 1.5121 - accuracy: 0.5792 - val_loss: 3.0255 - val_accuracy: 0.3298\n",
            "Epoch 6/15\n",
            "50000/50000 [==============================] - 61s 1ms/step - loss: 1.4009 - accuracy: 0.6090 - val_loss: 3.1403 - val_accuracy: 0.3336\n",
            "Epoch 7/15\n",
            "50000/50000 [==============================] - 61s 1ms/step - loss: 1.2867 - accuracy: 0.6366 - val_loss: 3.1877 - val_accuracy: 0.3330\n",
            "Epoch 8/15\n",
            "50000/50000 [==============================] - 61s 1ms/step - loss: 1.2093 - accuracy: 0.6544 - val_loss: 3.3406 - val_accuracy: 0.3291\n",
            "Epoch 9/15\n",
            "50000/50000 [==============================] - 63s 1ms/step - loss: 1.1005 - accuracy: 0.6847 - val_loss: 3.4935 - val_accuracy: 0.3295\n",
            "Epoch 10/15\n",
            "50000/50000 [==============================] - 61s 1ms/step - loss: 1.0141 - accuracy: 0.7080 - val_loss: 3.6467 - val_accuracy: 0.3285\n",
            "Epoch 11/15\n",
            "50000/50000 [==============================] - 61s 1ms/step - loss: 0.9331 - accuracy: 0.7275 - val_loss: 3.7112 - val_accuracy: 0.3237\n",
            "Epoch 12/15\n",
            "50000/50000 [==============================] - 60s 1ms/step - loss: 0.8367 - accuracy: 0.7534 - val_loss: 3.9396 - val_accuracy: 0.3225\n",
            "Epoch 13/15\n",
            "50000/50000 [==============================] - 60s 1ms/step - loss: 0.7628 - accuracy: 0.7739 - val_loss: 4.1667 - val_accuracy: 0.3206\n",
            "Epoch 14/15\n",
            "50000/50000 [==============================] - 61s 1ms/step - loss: 0.6919 - accuracy: 0.7910 - val_loss: 4.3430 - val_accuracy: 0.3155\n",
            "Epoch 15/15\n",
            "50000/50000 [==============================] - 61s 1ms/step - loss: 0.6299 - accuracy: 0.8106 - val_loss: 4.5082 - val_accuracy: 0.3165\n"
          ],
          "name": "stdout"
        }
      ]
    },
    {
      "cell_type": "code",
      "metadata": {
        "id": "3_k21kapAiR0",
        "colab_type": "code",
        "outputId": "b6769a58-2f1d-4ff7-e1bf-0082ba84235a",
        "colab": {
          "base_uri": "https://localhost:8080/",
          "height": 441
        }
      },
      "source": [
        "# alexnet\n",
        "\n",
        "#Initialize the model\n",
        "alexnet_model = Sequential()\n",
        "\n",
        "# Step 1 - Convolution\n",
        "alexnet_model.add(Conv2D(96, (5, 5), padding='same',strides = 2 , input_shape=(32, 32, 3), activation = 'relu'))\n",
        " \n",
        "# Step 2 - Pooling\n",
        "\n",
        "alexnet_model.add(MaxPooling2D(pool_size=(3, 3), strides=2))\n",
        "\n",
        "#model.add(Dropout(0.25))\n",
        "\n",
        "alexnet_model.add(Conv2D(256,(5,5),padding='same',activation='relu'))\n",
        "\n",
        "alexnet_model.add(MaxPooling2D(pool_size=(3, 3), strides=2))\n",
        "\n",
        "alexnet_model.add(Conv2D(384,(5,5),padding='valid',activation='relu'))\n",
        "\n",
        "alexnet_model.add(Conv2D(384,(5,5),padding='valid',activation='relu'))\n",
        "\n",
        "alexnet_model.add(Conv2D(384,(5,5),padding='valid',activation='relu'))\n",
        "\n",
        "alexnet_model.add(MaxPooling2D(pool_size=(3, 3), strides=2))\n",
        "\n",
        "# Step 3 - Flattening\n",
        "alexnet_model.add(Flatten())\n",
        "\n",
        "# Step 4 - Full connection\n",
        "alexnet_model.add(Dense(units = 4096, activation = 'relu'))\n",
        "\n",
        "alexnet_model.add(Dense(units = 4096, activation = 'relu'))\n",
        "\n",
        "alexnet_model.add(Dense(units = 1000, activation = 'relu'))\n",
        "\n",
        "alexnet_model.add(Dense(num_classes, activation='softmax'))\n",
        "\n",
        "# Compile the model\n",
        "#optimizer=Adam(lr=0.01,beta_1=0.9,beta_2=0.999)\n",
        "alexnet_model.compile(optimizer='adam', loss='categorical_crossentropy', metrics=['accuracy'])\n"
      ],
      "execution_count": 0,
      "outputs": [
        {
          "output_type": "error",
          "ename": "ValueError",
          "evalue": "ignored",
          "traceback": [
            "\u001b[0;31m---------------------------------------------------------------------------\u001b[0m",
            "\u001b[0;31mInvalidArgumentError\u001b[0m                      Traceback (most recent call last)",
            "\u001b[0;32m/usr/local/lib/python3.6/dist-packages/tensorflow/python/framework/ops.py\u001b[0m in \u001b[0;36m_create_c_op\u001b[0;34m(graph, node_def, inputs, control_inputs, op_def)\u001b[0m\n\u001b[1;32m   1653\u001b[0m   \u001b[0;32mtry\u001b[0m\u001b[0;34m:\u001b[0m\u001b[0;34m\u001b[0m\u001b[0;34m\u001b[0m\u001b[0m\n\u001b[0;32m-> 1654\u001b[0;31m     \u001b[0mc_op\u001b[0m \u001b[0;34m=\u001b[0m \u001b[0mpywrap_tf_session\u001b[0m\u001b[0;34m.\u001b[0m\u001b[0mTF_FinishOperation\u001b[0m\u001b[0;34m(\u001b[0m\u001b[0mop_desc\u001b[0m\u001b[0;34m)\u001b[0m\u001b[0;34m\u001b[0m\u001b[0;34m\u001b[0m\u001b[0m\n\u001b[0m\u001b[1;32m   1655\u001b[0m   \u001b[0;32mexcept\u001b[0m \u001b[0merrors\u001b[0m\u001b[0;34m.\u001b[0m\u001b[0mInvalidArgumentError\u001b[0m \u001b[0;32mas\u001b[0m \u001b[0me\u001b[0m\u001b[0;34m:\u001b[0m\u001b[0;34m\u001b[0m\u001b[0;34m\u001b[0m\u001b[0m\n",
            "\u001b[0;31mInvalidArgumentError\u001b[0m: Negative dimension size caused by subtracting 5 from 3 for '{{node conv2d_15/convolution}} = Conv2D[T=DT_FLOAT, data_format=\"NHWC\", dilations=[1, 1, 1, 1], explicit_paddings=[], padding=\"VALID\", strides=[1, 1, 1, 1], use_cudnn_on_gpu=true](max_pooling2d_10/MaxPool, conv2d_15/convolution/ReadVariableOp)' with input shapes: [?,3,3,256], [5,5,256,384].",
            "\nDuring handling of the above exception, another exception occurred:\n",
            "\u001b[0;31mValueError\u001b[0m                                Traceback (most recent call last)",
            "\u001b[0;32m<ipython-input-37-e8bb7393544a>\u001b[0m in \u001b[0;36m<module>\u001b[0;34m()\u001b[0m\n\u001b[1;32m     17\u001b[0m \u001b[0malexnet_model\u001b[0m\u001b[0;34m.\u001b[0m\u001b[0madd\u001b[0m\u001b[0;34m(\u001b[0m\u001b[0mMaxPooling2D\u001b[0m\u001b[0;34m(\u001b[0m\u001b[0mpool_size\u001b[0m\u001b[0;34m=\u001b[0m\u001b[0;34m(\u001b[0m\u001b[0;36m3\u001b[0m\u001b[0;34m,\u001b[0m \u001b[0;36m3\u001b[0m\u001b[0;34m)\u001b[0m\u001b[0;34m,\u001b[0m \u001b[0mstrides\u001b[0m\u001b[0;34m=\u001b[0m\u001b[0;36m2\u001b[0m\u001b[0;34m)\u001b[0m\u001b[0;34m)\u001b[0m\u001b[0;34m\u001b[0m\u001b[0;34m\u001b[0m\u001b[0m\n\u001b[1;32m     18\u001b[0m \u001b[0;34m\u001b[0m\u001b[0m\n\u001b[0;32m---> 19\u001b[0;31m \u001b[0malexnet_model\u001b[0m\u001b[0;34m.\u001b[0m\u001b[0madd\u001b[0m\u001b[0;34m(\u001b[0m\u001b[0mConv2D\u001b[0m\u001b[0;34m(\u001b[0m\u001b[0;36m384\u001b[0m\u001b[0;34m,\u001b[0m\u001b[0;34m(\u001b[0m\u001b[0;36m5\u001b[0m\u001b[0;34m,\u001b[0m\u001b[0;36m5\u001b[0m\u001b[0;34m)\u001b[0m\u001b[0;34m,\u001b[0m\u001b[0mpadding\u001b[0m\u001b[0;34m=\u001b[0m\u001b[0;34m'valid'\u001b[0m\u001b[0;34m,\u001b[0m\u001b[0mactivation\u001b[0m\u001b[0;34m=\u001b[0m\u001b[0;34m'relu'\u001b[0m\u001b[0;34m)\u001b[0m\u001b[0;34m)\u001b[0m\u001b[0;34m\u001b[0m\u001b[0;34m\u001b[0m\u001b[0m\n\u001b[0m\u001b[1;32m     20\u001b[0m \u001b[0;34m\u001b[0m\u001b[0m\n\u001b[1;32m     21\u001b[0m \u001b[0malexnet_model\u001b[0m\u001b[0;34m.\u001b[0m\u001b[0madd\u001b[0m\u001b[0;34m(\u001b[0m\u001b[0mConv2D\u001b[0m\u001b[0;34m(\u001b[0m\u001b[0;36m384\u001b[0m\u001b[0;34m,\u001b[0m\u001b[0;34m(\u001b[0m\u001b[0;36m5\u001b[0m\u001b[0;34m,\u001b[0m\u001b[0;36m5\u001b[0m\u001b[0;34m)\u001b[0m\u001b[0;34m,\u001b[0m\u001b[0mpadding\u001b[0m\u001b[0;34m=\u001b[0m\u001b[0;34m'valid'\u001b[0m\u001b[0;34m,\u001b[0m\u001b[0mactivation\u001b[0m\u001b[0;34m=\u001b[0m\u001b[0;34m'relu'\u001b[0m\u001b[0;34m)\u001b[0m\u001b[0;34m)\u001b[0m\u001b[0;34m\u001b[0m\u001b[0;34m\u001b[0m\u001b[0m\n",
            "\u001b[0;32m/usr/local/lib/python3.6/dist-packages/keras/engine/sequential.py\u001b[0m in \u001b[0;36madd\u001b[0;34m(self, layer)\u001b[0m\n\u001b[1;32m    180\u001b[0m                 \u001b[0mself\u001b[0m\u001b[0;34m.\u001b[0m\u001b[0minputs\u001b[0m \u001b[0;34m=\u001b[0m \u001b[0mnetwork\u001b[0m\u001b[0;34m.\u001b[0m\u001b[0mget_source_inputs\u001b[0m\u001b[0;34m(\u001b[0m\u001b[0mself\u001b[0m\u001b[0;34m.\u001b[0m\u001b[0moutputs\u001b[0m\u001b[0;34m[\u001b[0m\u001b[0;36m0\u001b[0m\u001b[0;34m]\u001b[0m\u001b[0;34m)\u001b[0m\u001b[0;34m\u001b[0m\u001b[0;34m\u001b[0m\u001b[0m\n\u001b[1;32m    181\u001b[0m         \u001b[0;32melif\u001b[0m \u001b[0mself\u001b[0m\u001b[0;34m.\u001b[0m\u001b[0moutputs\u001b[0m\u001b[0;34m:\u001b[0m\u001b[0;34m\u001b[0m\u001b[0;34m\u001b[0m\u001b[0m\n\u001b[0;32m--> 182\u001b[0;31m             \u001b[0moutput_tensor\u001b[0m \u001b[0;34m=\u001b[0m \u001b[0mlayer\u001b[0m\u001b[0;34m(\u001b[0m\u001b[0mself\u001b[0m\u001b[0;34m.\u001b[0m\u001b[0moutputs\u001b[0m\u001b[0;34m[\u001b[0m\u001b[0;36m0\u001b[0m\u001b[0;34m]\u001b[0m\u001b[0;34m)\u001b[0m\u001b[0;34m\u001b[0m\u001b[0;34m\u001b[0m\u001b[0m\n\u001b[0m\u001b[1;32m    183\u001b[0m             \u001b[0;32mif\u001b[0m \u001b[0misinstance\u001b[0m\u001b[0;34m(\u001b[0m\u001b[0moutput_tensor\u001b[0m\u001b[0;34m,\u001b[0m \u001b[0mlist\u001b[0m\u001b[0;34m)\u001b[0m\u001b[0;34m:\u001b[0m\u001b[0;34m\u001b[0m\u001b[0;34m\u001b[0m\u001b[0m\n\u001b[1;32m    184\u001b[0m                 raise TypeError('All layers in a Sequential model '\n",
            "\u001b[0;32m/usr/local/lib/python3.6/dist-packages/keras/backend/tensorflow_backend.py\u001b[0m in \u001b[0;36msymbolic_fn_wrapper\u001b[0;34m(*args, **kwargs)\u001b[0m\n\u001b[1;32m     73\u001b[0m         \u001b[0;32mif\u001b[0m \u001b[0m_SYMBOLIC_SCOPE\u001b[0m\u001b[0;34m.\u001b[0m\u001b[0mvalue\u001b[0m\u001b[0;34m:\u001b[0m\u001b[0;34m\u001b[0m\u001b[0;34m\u001b[0m\u001b[0m\n\u001b[1;32m     74\u001b[0m             \u001b[0;32mwith\u001b[0m \u001b[0mget_graph\u001b[0m\u001b[0;34m(\u001b[0m\u001b[0;34m)\u001b[0m\u001b[0;34m.\u001b[0m\u001b[0mas_default\u001b[0m\u001b[0;34m(\u001b[0m\u001b[0;34m)\u001b[0m\u001b[0;34m:\u001b[0m\u001b[0;34m\u001b[0m\u001b[0;34m\u001b[0m\u001b[0m\n\u001b[0;32m---> 75\u001b[0;31m                 \u001b[0;32mreturn\u001b[0m \u001b[0mfunc\u001b[0m\u001b[0;34m(\u001b[0m\u001b[0;34m*\u001b[0m\u001b[0margs\u001b[0m\u001b[0;34m,\u001b[0m \u001b[0;34m**\u001b[0m\u001b[0mkwargs\u001b[0m\u001b[0;34m)\u001b[0m\u001b[0;34m\u001b[0m\u001b[0;34m\u001b[0m\u001b[0m\n\u001b[0m\u001b[1;32m     76\u001b[0m         \u001b[0;32melse\u001b[0m\u001b[0;34m:\u001b[0m\u001b[0;34m\u001b[0m\u001b[0;34m\u001b[0m\u001b[0m\n\u001b[1;32m     77\u001b[0m             \u001b[0;32mreturn\u001b[0m \u001b[0mfunc\u001b[0m\u001b[0;34m(\u001b[0m\u001b[0;34m*\u001b[0m\u001b[0margs\u001b[0m\u001b[0;34m,\u001b[0m \u001b[0;34m**\u001b[0m\u001b[0mkwargs\u001b[0m\u001b[0;34m)\u001b[0m\u001b[0;34m\u001b[0m\u001b[0;34m\u001b[0m\u001b[0m\n",
            "\u001b[0;32m/usr/local/lib/python3.6/dist-packages/keras/engine/base_layer.py\u001b[0m in \u001b[0;36m__call__\u001b[0;34m(self, inputs, **kwargs)\u001b[0m\n\u001b[1;32m    487\u001b[0m             \u001b[0;31m# Actually call the layer,\u001b[0m\u001b[0;34m\u001b[0m\u001b[0;34m\u001b[0m\u001b[0;34m\u001b[0m\u001b[0m\n\u001b[1;32m    488\u001b[0m             \u001b[0;31m# collecting output(s), mask(s), and shape(s).\u001b[0m\u001b[0;34m\u001b[0m\u001b[0;34m\u001b[0m\u001b[0;34m\u001b[0m\u001b[0m\n\u001b[0;32m--> 489\u001b[0;31m             \u001b[0moutput\u001b[0m \u001b[0;34m=\u001b[0m \u001b[0mself\u001b[0m\u001b[0;34m.\u001b[0m\u001b[0mcall\u001b[0m\u001b[0;34m(\u001b[0m\u001b[0minputs\u001b[0m\u001b[0;34m,\u001b[0m \u001b[0;34m**\u001b[0m\u001b[0mkwargs\u001b[0m\u001b[0;34m)\u001b[0m\u001b[0;34m\u001b[0m\u001b[0;34m\u001b[0m\u001b[0m\n\u001b[0m\u001b[1;32m    490\u001b[0m             \u001b[0moutput_mask\u001b[0m \u001b[0;34m=\u001b[0m \u001b[0mself\u001b[0m\u001b[0;34m.\u001b[0m\u001b[0mcompute_mask\u001b[0m\u001b[0;34m(\u001b[0m\u001b[0minputs\u001b[0m\u001b[0;34m,\u001b[0m \u001b[0mprevious_mask\u001b[0m\u001b[0;34m)\u001b[0m\u001b[0;34m\u001b[0m\u001b[0;34m\u001b[0m\u001b[0m\n\u001b[1;32m    491\u001b[0m \u001b[0;34m\u001b[0m\u001b[0m\n",
            "\u001b[0;32m/usr/local/lib/python3.6/dist-packages/keras/layers/convolutional.py\u001b[0m in \u001b[0;36mcall\u001b[0;34m(self, inputs)\u001b[0m\n\u001b[1;32m    169\u001b[0m                 \u001b[0mpadding\u001b[0m\u001b[0;34m=\u001b[0m\u001b[0mself\u001b[0m\u001b[0;34m.\u001b[0m\u001b[0mpadding\u001b[0m\u001b[0;34m,\u001b[0m\u001b[0;34m\u001b[0m\u001b[0;34m\u001b[0m\u001b[0m\n\u001b[1;32m    170\u001b[0m                 \u001b[0mdata_format\u001b[0m\u001b[0;34m=\u001b[0m\u001b[0mself\u001b[0m\u001b[0;34m.\u001b[0m\u001b[0mdata_format\u001b[0m\u001b[0;34m,\u001b[0m\u001b[0;34m\u001b[0m\u001b[0;34m\u001b[0m\u001b[0m\n\u001b[0;32m--> 171\u001b[0;31m                 dilation_rate=self.dilation_rate)\n\u001b[0m\u001b[1;32m    172\u001b[0m         \u001b[0;32mif\u001b[0m \u001b[0mself\u001b[0m\u001b[0;34m.\u001b[0m\u001b[0mrank\u001b[0m \u001b[0;34m==\u001b[0m \u001b[0;36m3\u001b[0m\u001b[0;34m:\u001b[0m\u001b[0;34m\u001b[0m\u001b[0;34m\u001b[0m\u001b[0m\n\u001b[1;32m    173\u001b[0m             outputs = K.conv3d(\n",
            "\u001b[0;32m/usr/local/lib/python3.6/dist-packages/keras/backend/tensorflow_backend.py\u001b[0m in \u001b[0;36mconv2d\u001b[0;34m(x, kernel, strides, padding, data_format, dilation_rate)\u001b[0m\n\u001b[1;32m   3715\u001b[0m         \u001b[0mpadding\u001b[0m\u001b[0;34m=\u001b[0m\u001b[0mpadding\u001b[0m\u001b[0;34m,\u001b[0m\u001b[0;34m\u001b[0m\u001b[0;34m\u001b[0m\u001b[0m\n\u001b[1;32m   3716\u001b[0m         \u001b[0mdata_format\u001b[0m\u001b[0;34m=\u001b[0m\u001b[0mtf_data_format\u001b[0m\u001b[0;34m,\u001b[0m\u001b[0;34m\u001b[0m\u001b[0;34m\u001b[0m\u001b[0m\n\u001b[0;32m-> 3717\u001b[0;31m         **kwargs)\n\u001b[0m\u001b[1;32m   3718\u001b[0m     \u001b[0;32mif\u001b[0m \u001b[0mdata_format\u001b[0m \u001b[0;34m==\u001b[0m \u001b[0;34m'channels_first'\u001b[0m \u001b[0;32mand\u001b[0m \u001b[0mtf_data_format\u001b[0m \u001b[0;34m==\u001b[0m \u001b[0;34m'NHWC'\u001b[0m\u001b[0;34m:\u001b[0m\u001b[0;34m\u001b[0m\u001b[0;34m\u001b[0m\u001b[0m\n\u001b[1;32m   3719\u001b[0m         \u001b[0mx\u001b[0m \u001b[0;34m=\u001b[0m \u001b[0mtf\u001b[0m\u001b[0;34m.\u001b[0m\u001b[0mtranspose\u001b[0m\u001b[0;34m(\u001b[0m\u001b[0mx\u001b[0m\u001b[0;34m,\u001b[0m \u001b[0;34m(\u001b[0m\u001b[0;36m0\u001b[0m\u001b[0;34m,\u001b[0m \u001b[0;36m3\u001b[0m\u001b[0;34m,\u001b[0m \u001b[0;36m1\u001b[0m\u001b[0;34m,\u001b[0m \u001b[0;36m2\u001b[0m\u001b[0;34m)\u001b[0m\u001b[0;34m)\u001b[0m  \u001b[0;31m# NHWC -> NCHW\u001b[0m\u001b[0;34m\u001b[0m\u001b[0;34m\u001b[0m\u001b[0m\n",
            "\u001b[0;32m/usr/local/lib/python3.6/dist-packages/tensorflow/python/ops/nn_ops.py\u001b[0m in \u001b[0;36mconvolution_v2\u001b[0;34m(input, filters, strides, padding, data_format, dilations, name)\u001b[0m\n\u001b[1;32m    914\u001b[0m       \u001b[0mdata_format\u001b[0m\u001b[0;34m=\u001b[0m\u001b[0mdata_format\u001b[0m\u001b[0;34m,\u001b[0m\u001b[0;34m\u001b[0m\u001b[0;34m\u001b[0m\u001b[0m\n\u001b[1;32m    915\u001b[0m       \u001b[0mdilations\u001b[0m\u001b[0;34m=\u001b[0m\u001b[0mdilations\u001b[0m\u001b[0;34m,\u001b[0m\u001b[0;34m\u001b[0m\u001b[0;34m\u001b[0m\u001b[0m\n\u001b[0;32m--> 916\u001b[0;31m       name=name)\n\u001b[0m\u001b[1;32m    917\u001b[0m \u001b[0;34m\u001b[0m\u001b[0m\n\u001b[1;32m    918\u001b[0m \u001b[0;34m\u001b[0m\u001b[0m\n",
            "\u001b[0;32m/usr/local/lib/python3.6/dist-packages/tensorflow/python/ops/nn_ops.py\u001b[0m in \u001b[0;36mconvolution_internal\u001b[0;34m(input, filters, strides, padding, data_format, dilations, name, call_from_convolution)\u001b[0m\n\u001b[1;32m    982\u001b[0m           \u001b[0mdata_format\u001b[0m\u001b[0;34m=\u001b[0m\u001b[0mdata_format\u001b[0m\u001b[0;34m,\u001b[0m\u001b[0;34m\u001b[0m\u001b[0;34m\u001b[0m\u001b[0m\n\u001b[1;32m    983\u001b[0m           \u001b[0mdilations\u001b[0m\u001b[0;34m=\u001b[0m\u001b[0mdilations\u001b[0m\u001b[0;34m,\u001b[0m\u001b[0;34m\u001b[0m\u001b[0;34m\u001b[0m\u001b[0m\n\u001b[0;32m--> 984\u001b[0;31m           name=name)\n\u001b[0m\u001b[1;32m    985\u001b[0m     \u001b[0;32melse\u001b[0m\u001b[0;34m:\u001b[0m\u001b[0;34m\u001b[0m\u001b[0;34m\u001b[0m\u001b[0m\n\u001b[1;32m    986\u001b[0m       \u001b[0;32mif\u001b[0m \u001b[0mchannel_index\u001b[0m \u001b[0;34m==\u001b[0m \u001b[0;36m1\u001b[0m\u001b[0;34m:\u001b[0m\u001b[0;34m\u001b[0m\u001b[0;34m\u001b[0m\u001b[0m\n",
            "\u001b[0;32m/usr/local/lib/python3.6/dist-packages/tensorflow/python/ops/gen_nn_ops.py\u001b[0m in \u001b[0;36mconv2d\u001b[0;34m(input, filter, strides, padding, use_cudnn_on_gpu, explicit_paddings, data_format, dilations, name)\u001b[0m\n\u001b[1;32m    967\u001b[0m                   \u001b[0mpadding\u001b[0m\u001b[0;34m=\u001b[0m\u001b[0mpadding\u001b[0m\u001b[0;34m,\u001b[0m \u001b[0muse_cudnn_on_gpu\u001b[0m\u001b[0;34m=\u001b[0m\u001b[0muse_cudnn_on_gpu\u001b[0m\u001b[0;34m,\u001b[0m\u001b[0;34m\u001b[0m\u001b[0;34m\u001b[0m\u001b[0m\n\u001b[1;32m    968\u001b[0m                   \u001b[0mexplicit_paddings\u001b[0m\u001b[0;34m=\u001b[0m\u001b[0mexplicit_paddings\u001b[0m\u001b[0;34m,\u001b[0m\u001b[0;34m\u001b[0m\u001b[0;34m\u001b[0m\u001b[0m\n\u001b[0;32m--> 969\u001b[0;31m                   data_format=data_format, dilations=dilations, name=name)\n\u001b[0m\u001b[1;32m    970\u001b[0m   \u001b[0m_result\u001b[0m \u001b[0;34m=\u001b[0m \u001b[0m_outputs\u001b[0m\u001b[0;34m[\u001b[0m\u001b[0;34m:\u001b[0m\u001b[0;34m]\u001b[0m\u001b[0;34m\u001b[0m\u001b[0;34m\u001b[0m\u001b[0m\n\u001b[1;32m    971\u001b[0m   \u001b[0;32mif\u001b[0m \u001b[0m_execute\u001b[0m\u001b[0;34m.\u001b[0m\u001b[0mmust_record_gradient\u001b[0m\u001b[0;34m(\u001b[0m\u001b[0;34m)\u001b[0m\u001b[0;34m:\u001b[0m\u001b[0;34m\u001b[0m\u001b[0;34m\u001b[0m\u001b[0m\n",
            "\u001b[0;32m/usr/local/lib/python3.6/dist-packages/tensorflow/python/framework/op_def_library.py\u001b[0m in \u001b[0;36m_apply_op_helper\u001b[0;34m(op_type_name, name, **keywords)\u001b[0m\n\u001b[1;32m    742\u001b[0m       op = g._create_op_internal(op_type_name, inputs, dtypes=None,\n\u001b[1;32m    743\u001b[0m                                  \u001b[0mname\u001b[0m\u001b[0;34m=\u001b[0m\u001b[0mscope\u001b[0m\u001b[0;34m,\u001b[0m \u001b[0minput_types\u001b[0m\u001b[0;34m=\u001b[0m\u001b[0minput_types\u001b[0m\u001b[0;34m,\u001b[0m\u001b[0;34m\u001b[0m\u001b[0;34m\u001b[0m\u001b[0m\n\u001b[0;32m--> 744\u001b[0;31m                                  attrs=attr_protos, op_def=op_def)\n\u001b[0m\u001b[1;32m    745\u001b[0m \u001b[0;34m\u001b[0m\u001b[0m\n\u001b[1;32m    746\u001b[0m     \u001b[0;31m# `outputs` is returned as a separate return value so that the output\u001b[0m\u001b[0;34m\u001b[0m\u001b[0;34m\u001b[0m\u001b[0;34m\u001b[0m\u001b[0m\n",
            "\u001b[0;32m/usr/local/lib/python3.6/dist-packages/tensorflow/python/framework/func_graph.py\u001b[0m in \u001b[0;36m_create_op_internal\u001b[0;34m(self, op_type, inputs, dtypes, input_types, name, attrs, op_def, compute_device)\u001b[0m\n\u001b[1;32m    593\u001b[0m     return super(FuncGraph, self)._create_op_internal(  # pylint: disable=protected-access\n\u001b[1;32m    594\u001b[0m         \u001b[0mop_type\u001b[0m\u001b[0;34m,\u001b[0m \u001b[0minputs\u001b[0m\u001b[0;34m,\u001b[0m \u001b[0mdtypes\u001b[0m\u001b[0;34m,\u001b[0m \u001b[0minput_types\u001b[0m\u001b[0;34m,\u001b[0m \u001b[0mname\u001b[0m\u001b[0;34m,\u001b[0m \u001b[0mattrs\u001b[0m\u001b[0;34m,\u001b[0m \u001b[0mop_def\u001b[0m\u001b[0;34m,\u001b[0m\u001b[0;34m\u001b[0m\u001b[0;34m\u001b[0m\u001b[0m\n\u001b[0;32m--> 595\u001b[0;31m         compute_device)\n\u001b[0m\u001b[1;32m    596\u001b[0m \u001b[0;34m\u001b[0m\u001b[0m\n\u001b[1;32m    597\u001b[0m   \u001b[0;32mdef\u001b[0m \u001b[0mcapture\u001b[0m\u001b[0;34m(\u001b[0m\u001b[0mself\u001b[0m\u001b[0;34m,\u001b[0m \u001b[0mtensor\u001b[0m\u001b[0;34m,\u001b[0m \u001b[0mname\u001b[0m\u001b[0;34m=\u001b[0m\u001b[0;32mNone\u001b[0m\u001b[0;34m,\u001b[0m \u001b[0mshape\u001b[0m\u001b[0;34m=\u001b[0m\u001b[0;32mNone\u001b[0m\u001b[0;34m)\u001b[0m\u001b[0;34m:\u001b[0m\u001b[0;34m\u001b[0m\u001b[0;34m\u001b[0m\u001b[0m\n",
            "\u001b[0;32m/usr/local/lib/python3.6/dist-packages/tensorflow/python/framework/ops.py\u001b[0m in \u001b[0;36m_create_op_internal\u001b[0;34m(self, op_type, inputs, dtypes, input_types, name, attrs, op_def, compute_device)\u001b[0m\n\u001b[1;32m   3325\u001b[0m           \u001b[0minput_types\u001b[0m\u001b[0;34m=\u001b[0m\u001b[0minput_types\u001b[0m\u001b[0;34m,\u001b[0m\u001b[0;34m\u001b[0m\u001b[0;34m\u001b[0m\u001b[0m\n\u001b[1;32m   3326\u001b[0m           \u001b[0moriginal_op\u001b[0m\u001b[0;34m=\u001b[0m\u001b[0mself\u001b[0m\u001b[0;34m.\u001b[0m\u001b[0m_default_original_op\u001b[0m\u001b[0;34m,\u001b[0m\u001b[0;34m\u001b[0m\u001b[0;34m\u001b[0m\u001b[0m\n\u001b[0;32m-> 3327\u001b[0;31m           op_def=op_def)\n\u001b[0m\u001b[1;32m   3328\u001b[0m       \u001b[0mself\u001b[0m\u001b[0;34m.\u001b[0m\u001b[0m_create_op_helper\u001b[0m\u001b[0;34m(\u001b[0m\u001b[0mret\u001b[0m\u001b[0;34m,\u001b[0m \u001b[0mcompute_device\u001b[0m\u001b[0;34m=\u001b[0m\u001b[0mcompute_device\u001b[0m\u001b[0;34m)\u001b[0m\u001b[0;34m\u001b[0m\u001b[0;34m\u001b[0m\u001b[0m\n\u001b[1;32m   3329\u001b[0m     \u001b[0;32mreturn\u001b[0m \u001b[0mret\u001b[0m\u001b[0;34m\u001b[0m\u001b[0;34m\u001b[0m\u001b[0m\n",
            "\u001b[0;32m/usr/local/lib/python3.6/dist-packages/tensorflow/python/framework/ops.py\u001b[0m in \u001b[0;36m__init__\u001b[0;34m(self, node_def, g, inputs, output_types, control_inputs, input_types, original_op, op_def)\u001b[0m\n\u001b[1;32m   1815\u001b[0m         \u001b[0mop_def\u001b[0m \u001b[0;34m=\u001b[0m \u001b[0mself\u001b[0m\u001b[0;34m.\u001b[0m\u001b[0m_graph\u001b[0m\u001b[0;34m.\u001b[0m\u001b[0m_get_op_def\u001b[0m\u001b[0;34m(\u001b[0m\u001b[0mnode_def\u001b[0m\u001b[0;34m.\u001b[0m\u001b[0mop\u001b[0m\u001b[0;34m)\u001b[0m\u001b[0;34m\u001b[0m\u001b[0;34m\u001b[0m\u001b[0m\n\u001b[1;32m   1816\u001b[0m       self._c_op = _create_c_op(self._graph, node_def, inputs,\n\u001b[0;32m-> 1817\u001b[0;31m                                 control_input_ops, op_def)\n\u001b[0m\u001b[1;32m   1818\u001b[0m       \u001b[0mname\u001b[0m \u001b[0;34m=\u001b[0m \u001b[0mcompat\u001b[0m\u001b[0;34m.\u001b[0m\u001b[0mas_str\u001b[0m\u001b[0;34m(\u001b[0m\u001b[0mnode_def\u001b[0m\u001b[0;34m.\u001b[0m\u001b[0mname\u001b[0m\u001b[0;34m)\u001b[0m\u001b[0;34m\u001b[0m\u001b[0;34m\u001b[0m\u001b[0m\n\u001b[1;32m   1819\u001b[0m     \u001b[0;31m# pylint: enable=protected-access\u001b[0m\u001b[0;34m\u001b[0m\u001b[0;34m\u001b[0m\u001b[0;34m\u001b[0m\u001b[0m\n",
            "\u001b[0;32m/usr/local/lib/python3.6/dist-packages/tensorflow/python/framework/ops.py\u001b[0m in \u001b[0;36m_create_c_op\u001b[0;34m(graph, node_def, inputs, control_inputs, op_def)\u001b[0m\n\u001b[1;32m   1655\u001b[0m   \u001b[0;32mexcept\u001b[0m \u001b[0merrors\u001b[0m\u001b[0;34m.\u001b[0m\u001b[0mInvalidArgumentError\u001b[0m \u001b[0;32mas\u001b[0m \u001b[0me\u001b[0m\u001b[0;34m:\u001b[0m\u001b[0;34m\u001b[0m\u001b[0;34m\u001b[0m\u001b[0m\n\u001b[1;32m   1656\u001b[0m     \u001b[0;31m# Convert to ValueError for backwards compatibility.\u001b[0m\u001b[0;34m\u001b[0m\u001b[0;34m\u001b[0m\u001b[0;34m\u001b[0m\u001b[0m\n\u001b[0;32m-> 1657\u001b[0;31m     \u001b[0;32mraise\u001b[0m \u001b[0mValueError\u001b[0m\u001b[0;34m(\u001b[0m\u001b[0mstr\u001b[0m\u001b[0;34m(\u001b[0m\u001b[0me\u001b[0m\u001b[0;34m)\u001b[0m\u001b[0;34m)\u001b[0m\u001b[0;34m\u001b[0m\u001b[0;34m\u001b[0m\u001b[0m\n\u001b[0m\u001b[1;32m   1658\u001b[0m \u001b[0;34m\u001b[0m\u001b[0m\n\u001b[1;32m   1659\u001b[0m   \u001b[0;32mreturn\u001b[0m \u001b[0mc_op\u001b[0m\u001b[0;34m\u001b[0m\u001b[0;34m\u001b[0m\u001b[0m\n",
            "\u001b[0;31mValueError\u001b[0m: Negative dimension size caused by subtracting 5 from 3 for '{{node conv2d_15/convolution}} = Conv2D[T=DT_FLOAT, data_format=\"NHWC\", dilations=[1, 1, 1, 1], explicit_paddings=[], padding=\"VALID\", strides=[1, 1, 1, 1], use_cudnn_on_gpu=true](max_pooling2d_10/MaxPool, conv2d_15/convolution/ReadVariableOp)' with input shapes: [?,3,3,256], [5,5,256,384]."
          ]
        }
      ]
    },
    {
      "cell_type": "code",
      "metadata": {
        "id": "sEyoN4CmCEyC",
        "colab_type": "code",
        "colab": {}
      },
      "source": [
        "alexnet_model.summary()"
      ],
      "execution_count": 0,
      "outputs": []
    }
  ]
}